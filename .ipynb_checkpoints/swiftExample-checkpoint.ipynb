{
 "cells": [
  {
   "cell_type": "code",
   "execution_count": 1,
   "metadata": {
    "collapsed": false
   },
   "outputs": [
    {
     "name": "stdout",
     "output_type": "stream",
     "text": [
      "Hello, notebook\n",
      "Hi notebook\n",
      "7\n",
      "An example of string interpolation using the earlier values: 10"
     ]
    }
   ],
   "source": [
    "import Foundation\n",
    "\n",
    "// variables, constants and printing\n",
    "var myVar = \"Hello, notebook\"\n",
    "print(myVar)\n",
    "\n",
    "myVar = \"Hi notebook\"\n",
    "print(myVar)\n",
    "\n",
    "var myExplicitVar : Int = 4\n",
    "myExplicitVar += 3\n",
    "print(myExplicitVar)\n",
    "\n",
    "// trying to change this will cause a compiler error\n",
    "let myConst = 3\n",
    "\n",
    "print(\"An example of string interpolation using the earlier values: \\(myExplicitVar + myConst)\")"
   ]
  },
  {
   "cell_type": "code",
   "execution_count": 2,
   "metadata": {
    "collapsed": false
   },
   "outputs": [
    {
     "name": "stdout",
     "output_type": "stream",
     "text": [
      "The first tasty meat is beef\n",
      "beef is tasty\n",
      "chicken is tasty\n",
      "lamb is tasty\n",
      "lobster is tasty\n",
      "pork is tasty\n",
      "goat is tasty"
     ]
    }
   ],
   "source": [
    "// arrays\n",
    "var tastyMeats = [\"beef\",\"chicken\",\"lamb\",\"lobster\"]\n",
    "print(\"The first tasty meat is \\(tastyMeats[0])\")\n",
    "tastyMeats.append(\"pork\")\n",
    "tastyMeats.append(\"goat\")\n",
    "\n",
    "// printing all the elements of the array\n",
    "for meat in tastyMeats\n",
    "{\n",
    "    print(\"\\(meat) is tasty\")\n",
    "}"
   ]
  },
  {
   "cell_type": "code",
   "execution_count": 3,
   "metadata": {
    "collapsed": false
   },
   "outputs": [
    {
     "name": "stdout",
     "output_type": "stream",
     "text": [
      "The Bosun is Matthews\n",
      "The Coxswain is Wolfe\n",
      "The Steward is Hobbs\n",
      "The Captain is Horatio\n",
      "The First Lieutenant is Bush"
     ]
    }
   ],
   "source": [
    "// dictionaries\n",
    "let hotspurCrew = [\n",
    "    \"Captain\" : \"Horatio\",\n",
    "    \"First Lieutenant\" : \"Bush\",\n",
    "    \"Steward\" : \"Hobbs\",\n",
    "    \"Bosun\" : \"Matthews\",\n",
    "    \"Coxswain\" : \"Wolfe\"\n",
    "]\n",
    "\n",
    "for (position, crew) in hotspurCrew\n",
    "{\n",
    "    print(\"The \\(position) is \\(crew)\")\n",
    "}"
   ]
  },
  {
   "cell_type": "code",
   "execution_count": 4,
   "metadata": {
    "collapsed": false
   },
   "outputs": [
    {
     "name": "stdout",
     "output_type": "stream",
     "text": [
      "Error 404, file not found\n",
      "Error 404, file not found\n",
      "Error 418, I am a teapot"
     ]
    }
   ],
   "source": [
    "// tuples\n",
    "let error = (404, \"file not found\")\n",
    "print(\"Error \\(error.0), \\(error.1)\")\n",
    "\n",
    "// tuples can have named values\n",
    "let (errorCode, errorMessage) = error\n",
    "print(\"Error \\(errorCode), \\(errorMessage)\")\n",
    "\n",
    "let namedError = (errorCode: 418, errorMessage: \"I am a teapot\")\n",
    "print(\"Error \\(namedError.errorCode), \\(namedError.errorMessage)\")"
   ]
  },
  {
   "cell_type": "code",
   "execution_count": 5,
   "metadata": {
    "collapsed": false
   },
   "outputs": [
    {
     "name": "stdout",
     "output_type": "stream",
     "text": []
    }
   ],
   "source": [
    "// enum\n",
    "enum Compass\n",
    "{\n",
    "    case north\n",
    "    case south\n",
    "    case east\n",
    "    case west\n",
    "}\n",
    "\n",
    "let direction : Compass = .north"
   ]
  },
  {
   "cell_type": "code",
   "execution_count": 6,
   "metadata": {
    "collapsed": false
   },
   "outputs": [
    {
     "name": "stdout",
     "output_type": "stream",
     "text": [
      "watch out for polar bears\n",
      "it goes moo\n",
      "It makes another noise...\n",
      "it goes baa\n",
      "It makes another noise...\n",
      "It makes another noise...\n",
      "it goes baa"
     ]
    }
   ],
   "source": [
    "// basic flow control\n",
    "switch direction\n",
    "{\n",
    "case .north:\n",
    "    print(\"watch out for polar bears\")\n",
    "case .south:\n",
    "    print(\"beware, here be penguins\")\n",
    "case .east:\n",
    "    print(\"the sun rises here, I thought it'd be brighter\")\n",
    "case .west:\n",
    "    print(\"when it goes wild it has a lot of horses and guns and cowboys or so the movies would have me believe\")\n",
    "}\n",
    "\n",
    "for meat in tastyMeats\n",
    "{\n",
    "    if meat == \"lamb\" || meat == \"goat\"\n",
    "    {\n",
    "        print(\"it goes baa\")\n",
    "    }\n",
    "    else if meat == \"beef\"\n",
    "    {\n",
    "        print(\"it goes moo\")\n",
    "    }\n",
    "    else\n",
    "    {\n",
    "        print(\"It makes another noise...\")\n",
    "    }\n",
    "}\n"
   ]
  },
  {
   "cell_type": "code",
   "execution_count": 7,
   "metadata": {
    "collapsed": false
   },
   "outputs": [
    {
     "name": "stdout",
     "output_type": "stream",
     "text": [
      "false\n",
      "8\n",
      "there is no value\n",
      "[\"beef\", \"chicken\", \"lamb\", \"pork\", \"goat\"]"
     ]
    }
   ],
   "source": [
    "// Optionals\n",
    "// optional values may not exist\n",
    "// only optional can be nill\n",
    "var optionalInt : Int? = 4\n",
    "// can then check if they exist\n",
    "print(optionalInt == nil)\n",
    "// can be forced unwrapped but this is dangerous\n",
    "// program will crash if optionalInt is nil\n",
    "let thing = 4 + optionalInt!\n",
    "print(thing)\n",
    "optionalInt = nil\n",
    "// can use if let syntax to safely get a constant copy of an optional\n",
    "if let unwrappedOptional = optionalInt\n",
    "{\n",
    "    print(\"the optional containts: \\(unwrappedOptional)\")\n",
    "}\n",
    "else\n",
    "{\n",
    "    print(\"there is no value\")\n",
    "}\n",
    "\n",
    "// lots of methods return optionals\n",
    "if let lobsterIndex = tastyMeats.index(of: \"lobster\")\n",
    "{\n",
    "    // but many require a non-optional value to work\n",
    "    // removing lobster because it is awful\n",
    "    tastyMeats.remove(at: lobsterIndex)\n",
    "}\n",
    "print(tastyMeats)"
   ]
  },
  {
   "cell_type": "code",
   "execution_count": 8,
   "metadata": {
    "collapsed": false
   },
   "outputs": [
    {
     "name": "stdout",
     "output_type": "stream",
     "text": [
      "Hi Bob, good to see you this Wednesday\n",
      "Hi Richard, good to see you this Tuesday\n",
      "Hi Sarah, good to see you this thursday"
     ]
    }
   ],
   "source": [
    "// Functions\n",
    "func greet(person:String, day: String)->String\n",
    "{\n",
    "    return \"Hi \\(person), good to see you this \\(day)\"\n",
    "}\n",
    "print(greet(person: \"Bob\", day: \"Wednesday\"))\n",
    "\n",
    "// this isn't very swifty, we should use labels and hidden parameters to make it more like a sentence\n",
    "func greet(_ person:String, on day:String) -> String\n",
    "{\n",
    "    return \"Hi \\(person), good to see you this \\(day)\"\n",
    "}\n",
    "print(greet(\"Richard\", on: \"Tuesday\"))\n",
    "\n",
    "// finally we should really use an enum with a base string type to make this even swiftier\n",
    "enum Day : String\n",
    "{\n",
    "    case sunday\n",
    "    case monday\n",
    "    case wednesday\n",
    "    case thursday\n",
    "    case friday\n",
    "    case saturday\n",
    "}\n",
    "func greet(_ person: String, on day:Day) -> String\n",
    "{\n",
    "    return \"Hi \\(person), good to see you this \\(day.rawValue)\"\n",
    "}\n",
    "print(greet(\"Sarah\", on: .thursday))"
   ]
  },
  {
   "cell_type": "code",
   "execution_count": 9,
   "metadata": {
    "collapsed": false
   },
   "outputs": [
    {
     "name": "stdout",
     "output_type": "stream",
     "text": [
      "64.0\n",
      "12.0"
     ]
    }
   ],
   "source": [
    "// Extensions and Custom objects\n",
    "infix operator **\n",
    "extension Double\n",
    "{\n",
    "    static func ** (left: Double, right:Double) -> Double\n",
    "    {\n",
    "        return pow(left,right)\n",
    "    }\n",
    "}\n",
    "print(4 ** 3)\n",
    "\n",
    "struct Rectangle\n",
    "{\n",
    "    var length: Double\n",
    "    var width: Double\n",
    "    \n",
    "    func area()->Double\n",
    "    {\n",
    "        return length * width\n",
    "    }\n",
    "}\n",
    "let rectangle = Rectangle(length: 3, width: 4)\n",
    "print(rectangle.area())"
   ]
  },
  {
   "cell_type": "code",
   "execution_count": null,
   "metadata": {
    "collapsed": true
   },
   "outputs": [],
   "source": []
  }
 ],
 "metadata": {
  "kernelspec": {
   "display_name": "Swift",
   "language": "",
   "name": "swiftkernel"
  },
  "language_info": {
   "file_extension": "swift",
   "mimetype": "text/plain",
   "name": "swift"
  }
 },
 "nbformat": 4,
 "nbformat_minor": 2
}
